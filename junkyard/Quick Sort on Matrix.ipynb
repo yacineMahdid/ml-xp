{
 "cells": [
  {
   "cell_type": "code",
   "execution_count": 15,
   "metadata": {},
   "outputs": [],
   "source": [
    "import numpy as np\n",
    "import pandas as pd\n",
    "import unittest\n",
    "\n",
    "'''\n",
    "Goal of this notebook is to showcase how to\n",
    "take an arbitrary algorithm, implement it from\n",
    "pseudo code and then modify it to fit your needs.\n",
    "'''"
   ]
  },
  {
   "cell_type": "markdown",
   "metadata": {},
   "source": [
    "## Pseudocode from Wikipedia\n",
    "source = https://en.wikipedia.org/wiki/Quicksort\n",
    "```\n",
    "algorithm quicksort(A, lo, hi) is\n",
    "    if lo < hi then\n",
    "        p := partition(A, lo, hi)\n",
    "        quicksort(A, lo, p - 1)\n",
    "        quicksort(A, p + 1, hi)\n",
    "\n",
    "algorithm partition(A, lo, hi) is\n",
    "    pivot := A[hi]\n",
    "    i := lo\n",
    "    for j := lo to hi do\n",
    "        if A[j] < pivot then\n",
    "            swap A[i] with A[j]\n",
    "            i := i + 1\n",
    "    swap A[i] with A[hi]\n",
    "    return i\n",
    "```"
   ]
  },
  {
   "cell_type": "code",
   "execution_count": 52,
   "metadata": {},
   "outputs": [
    {
     "name": "stdout",
     "output_type": "stream",
     "text": [
      "BEFORE SORTING: \n",
      "[[0.23466178 0.6492908  0.67021173 0.46716194 0.23721482]\n",
      " [0.3052424  0.85301372 0.02447109 0.50954558 0.01903508]\n",
      " [0.21072777 0.278495   0.49687061 0.06586773 0.04866308]\n",
      " [0.54102282 0.40509217 0.78770998 0.70746844 0.72607101]\n",
      " [0.3897865  0.29465997 0.95588274 0.33847857 0.95158545]]\n",
      "AFTER SORTING\n"
     ]
    },
    {
     "data": {
      "text/plain": [
       "array([[0.21072777, 0.278495  , 0.49687061, 0.06586773, 0.04866308],\n",
       "       [0.23466178, 0.6492908 , 0.67021173, 0.46716194, 0.23721482],\n",
       "       [0.3052424 , 0.85301372, 0.02447109, 0.50954558, 0.01903508],\n",
       "       [0.3897865 , 0.29465997, 0.95588274, 0.33847857, 0.95158545],\n",
       "       [0.54102282, 0.40509217, 0.78770998, 0.70746844, 0.72607101]])"
      ]
     },
     "execution_count": 52,
     "metadata": {},
     "output_type": "execute_result"
    }
   ],
   "source": [
    "# Wrapper function for ease of calling\n",
    "# row = axis:0\n",
    "# col = axis:1\n",
    "def quick_sort(matrix, axis, selected_index):\n",
    "    if axis == 1:\n",
    "        #transpose the matrix\n",
    "        matrix = matrix.transpose()\n",
    "    \n",
    "    quick_sort_recursive(matrix, selected_index, 0,len(matrix)-1)\n",
    "    \n",
    "    if axis == 1:\n",
    "        matrix = matrix.transpose()\n",
    "    return matrix\n",
    "\n",
    "# Recursive quick_sort function that work on row\n",
    "def quick_sort_recursive(matrix, selected_index, low_index, high_index):\n",
    "    if low_index < high_index:\n",
    "        pivot_index = partition(matrix, selected_index, low_index, high_index)\n",
    "        quick_sort_recursive(matrix, selected_index, low_index, pivot_index - 1)\n",
    "        quick_sort_recursive(matrix, selected_index, pivot_index + 1, high_index)\n",
    "\n",
    "# where the magic happen\n",
    "def partition(matrix, selected_index, low_index, high_index):\n",
    "    def swap(matrix,i,j):\n",
    "        temp = np.copy(matrix[:, i])\n",
    "        matrix[:,i] = matrix[:,j]\n",
    "        matrix[:,j] = temp\n",
    "        \n",
    "    pivot = matrix[selected_index, high_index]\n",
    "    i = low_index\n",
    "    for j in range(low_index, high_index+1):\n",
    "        if matrix[selected_index, j] < pivot:\n",
    "            swap(matrix,i,j)\n",
    "            i = i + 1\n",
    "    swap(matrix,i,high_index)\n",
    "    return i\n",
    "\n",
    "random_matrix = np.random.rand(5,5)\n",
    "print(\"BEFORE SORTING: \")\n",
    "print(random_matrix)\n",
    "print(\"AFTER SORTING\")\n",
    "quick_sort(random_matrix,1,0)"
   ]
  },
  {
   "cell_type": "code",
   "execution_count": null,
   "metadata": {},
   "outputs": [],
   "source": []
  },
  {
   "cell_type": "code",
   "execution_count": null,
   "metadata": {},
   "outputs": [],
   "source": []
  }
 ],
 "metadata": {
  "kernelspec": {
   "display_name": "Python 3",
   "language": "python",
   "name": "python3"
  },
  "language_info": {
   "codemirror_mode": {
    "name": "ipython",
    "version": 3
   },
   "file_extension": ".py",
   "mimetype": "text/x-python",
   "name": "python",
   "nbconvert_exporter": "python",
   "pygments_lexer": "ipython3",
   "version": "3.7.3"
  }
 },
 "nbformat": 4,
 "nbformat_minor": 2
}
