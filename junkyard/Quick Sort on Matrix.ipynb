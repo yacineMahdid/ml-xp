{
 "cells": [
  {
   "cell_type": "code",
   "execution_count": 12,
   "metadata": {},
   "outputs": [
    {
     "name": "stdout",
     "output_type": "stream",
     "text": [
      "Whohouu\n"
     ]
    }
   ],
   "source": [
    "import numpy as np\n",
    "import pandas as pd\n",
    "import unittest\n",
    "\n",
    "print(\"Whohouu\")"
   ]
  },
  {
   "cell_type": "code",
   "execution_count": 14,
   "metadata": {},
   "outputs": [
    {
     "name": "stderr",
     "output_type": "stream",
     "text": [
      "test_quicksort (__main__.TestNotebook) ... FAIL\n",
      "test_isupper (__main__.TestStringMethods) ... ok\n",
      "test_split (__main__.TestStringMethods) ... ok\n",
      "test_upper (__main__.TestStringMethods) ... ok\n",
      "\n",
      "======================================================================\n",
      "FAIL: test_quicksort (__main__.TestNotebook)\n",
      "----------------------------------------------------------------------\n",
      "Traceback (most recent call last):\n",
      "  File \"<ipython-input-14-3f779eedfc66>\", line 6, in test_quicksort\n",
      "    np.testing.assert_array_equal(quick_sort(random_vector), np.sort(random_vector))\n",
      "  File \"C:\\Users\\biapt\\Anaconda3\\lib\\site-packages\\numpy\\testing\\_private\\utils.py\", line 904, in assert_array_equal\n",
      "    verbose=verbose, header='Arrays are not equal')\n",
      "  File \"C:\\Users\\biapt\\Anaconda3\\lib\\site-packages\\numpy\\testing\\_private\\utils.py\", line 827, in assert_array_compare\n",
      "    raise AssertionError(msg)\n",
      "AssertionError: \n",
      "Arrays are not equal\n",
      "\n",
      "Mismatch: 99%\n",
      "Max absolute difference: 0.90131877\n",
      "Max relative difference: 81.25851864\n",
      " x: array([[0.170386, 0.685261, 0.900117, 0.716868, 0.468302, 0.040715,\n",
      "        0.098345, 0.827874, 0.651767, 0.757391, 0.416009, 0.037512,\n",
      "        0.491567, 0.105641, 0.316686, 0.790515, 0.319733, 0.123972,...\n",
      " y: array([[0.00811 , 0.008504, 0.010943, 0.037512, 0.040715, 0.041851,\n",
      "        0.042513, 0.046251, 0.087215, 0.098345, 0.100319, 0.105641,\n",
      "        0.115009, 0.123972, 0.13512 , 0.139812, 0.147861, 0.14862 ,...\n",
      "\n",
      "----------------------------------------------------------------------\n",
      "Ran 4 tests in 0.066s\n",
      "\n",
      "FAILED (failures=1)\n"
     ]
    },
    {
     "data": {
      "text/plain": [
       "<unittest.main.TestProgram at 0x1f04058b358>"
      ]
     },
     "execution_count": 14,
     "metadata": {},
     "output_type": "execute_result"
    }
   ],
   "source": [
    "class TestNotebook(unittest.TestCase):\n",
    "\n",
    "    # We want quicksort to work at some point\n",
    "    def test_quicksort(self):\n",
    "        random_vector = np.random.rand(1,100)\n",
    "        np.testing.assert_array_equal(quick_sort(random_vector), np.sort(random_vector))\n",
    "\n",
    "\n",
    "def quick_sort(array):\n",
    "    return array\n",
    "        \n",
    "unittest.main(argv=[''], verbosity=2, exit=False)"
   ]
  },
  {
   "cell_type": "code",
   "execution_count": null,
   "metadata": {},
   "outputs": [],
   "source": []
  },
  {
   "cell_type": "code",
   "execution_count": null,
   "metadata": {},
   "outputs": [],
   "source": []
  }
 ],
 "metadata": {
  "kernelspec": {
   "display_name": "Python 3",
   "language": "python",
   "name": "python3"
  },
  "language_info": {
   "codemirror_mode": {
    "name": "ipython",
    "version": 3
   },
   "file_extension": ".py",
   "mimetype": "text/x-python",
   "name": "python",
   "nbconvert_exporter": "python",
   "pygments_lexer": "ipython3",
   "version": "3.7.3"
  }
 },
 "nbformat": 4,
 "nbformat_minor": 2
}
