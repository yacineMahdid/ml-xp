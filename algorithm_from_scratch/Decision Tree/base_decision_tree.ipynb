{
 "cells": [
  {
   "cell_type": "code",
   "execution_count": 2,
   "metadata": {},
   "outputs": [],
   "source": [
    "class BSTree:\n",
    "    # values inside a tree structure\n",
    "    left = None\n",
    "    right = None\n",
    "    data = None\n",
    "    \n",
    "    # constructor\n",
    "    def __init__(self, data_list):\n",
    "        (left_list,self.data,right_list) = self.partition(data_list)\n",
    "        # populate the children tree if there is something in the lists recursively\n",
    "        \n",
    "        if left_list:\n",
    "            self.left = BSTree(left_list)\n",
    "        \n",
    "        if right_list:\n",
    "            self.right = BSTree(right_list)\n",
    "    \n",
    "    # will just get the middle element for now\n",
    "    def partition(self, data_list):\n",
    "        middle_element = data_list[int(len(data_list)/2)]\n",
    "        \n",
    "        left_list = []\n",
    "        right_list = []\n",
    "        # populating the left and right lists\n",
    "        for element in data_list:\n",
    "            if element < middle_element:\n",
    "                left_list.append(element)\n",
    "            elif element > middle_element:\n",
    "                right_list.append(element)\n",
    "        return (left_list, middle_element, right_list)\n",
    "    \n",
    "    # do the in order traversal (smallest to biggest elements)\n",
    "    # left->print(data)->right->return\n",
    "    def in_order_traversal(self):\n",
    "        \n",
    "        # Do the left part\n",
    "        if self.left:\n",
    "            self.left.in_order_traversal()\n",
    "        \n",
    "        # print yourself\n",
    "        print(self.data)\n",
    "        \n",
    "        # Do the right part\n",
    "        if self.right:\n",
    "            self.right.in_order_traversal()"
   ]
  },
  {
   "cell_type": "code",
   "execution_count": 4,
   "metadata": {},
   "outputs": [
    {
     "name": "stdout",
     "output_type": "stream",
     "text": [
      "-82\n",
      "-8\n",
      "0\n",
      "1\n",
      "2\n",
      "3\n",
      "4\n",
      "5\n",
      "6\n",
      "10\n",
      "37\n",
      "99\n",
      "999\n",
      "1000\n"
     ]
    }
   ],
   "source": [
    "test_list = [10, 999, -8, 99, -82 ,37 ,6, 5, 4, 3, 2 ,1,0,1000]\n",
    "bst = BSTree(test_list)\n",
    "bst.in_order_traversal()"
   ]
  },
  {
   "cell_type": "code",
   "execution_count": null,
   "metadata": {},
   "outputs": [],
   "source": []
  },
  {
   "cell_type": "code",
   "execution_count": null,
   "metadata": {},
   "outputs": [],
   "source": []
  },
  {
   "cell_type": "code",
   "execution_count": null,
   "metadata": {},
   "outputs": [],
   "source": []
  },
  {
   "cell_type": "code",
   "execution_count": null,
   "metadata": {},
   "outputs": [],
   "source": []
  },
  {
   "cell_type": "code",
   "execution_count": null,
   "metadata": {},
   "outputs": [],
   "source": []
  }
 ],
 "metadata": {
  "kernelspec": {
   "display_name": "Python 3",
   "language": "python",
   "name": "python3"
  },
  "language_info": {
   "codemirror_mode": {
    "name": "ipython",
    "version": 3
   },
   "file_extension": ".py",
   "mimetype": "text/x-python",
   "name": "python",
   "nbconvert_exporter": "python",
   "pygments_lexer": "ipython3",
   "version": "3.7.3"
  }
 },
 "nbformat": 4,
 "nbformat_minor": 2
}
