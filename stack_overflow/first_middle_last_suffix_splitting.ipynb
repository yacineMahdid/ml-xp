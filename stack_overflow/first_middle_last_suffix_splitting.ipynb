{
 "cells": [
  {
   "cell_type": "code",
   "execution_count": 50,
   "metadata": {},
   "outputs": [
    {
     "name": "stdout",
     "output_type": "stream",
     "text": [
      "Entry : MPH is malformed\n",
      "  first_name middle_name    last_name     title\n",
      "0       John                 McNamara          \n",
      "1       Nour         Abd  Almohsen Jr      M.D.\n",
      "2      Nancy         Ann        Brown  PhD ,MPH\n",
      "3                                              \n"
     ]
    }
   ],
   "source": [
    "import pandas as pd\n",
    "\n",
    "# Create the dataframe with provided sample data\n",
    "names = ['John McNamara','Nour Abd Almohsen Jr M.D.','Nancy Ann Brown, MPH, PhD','MPH']\n",
    "med_id = ['3498', '6725', '0197', '3287', '9127','']\n",
    "\n",
    "df = pd.DataFrame(list(zip(names, med_id)), columns =['name', 'id']) \n",
    "names = df['name'].to_list()\n",
    "\n",
    "\n",
    "# List to fill up given the dataframe content\n",
    "suffix = ['M.D.', 'PhD', 'MPH']\n",
    "garbages = [',']\n",
    "\n",
    "# iterate over all the name in your list\n",
    "clean_names = []\n",
    "first_name = []\n",
    "middle_name = []\n",
    "last_name = []\n",
    "title = []\n",
    "\n",
    "# Remove suffix and junk from the names\n",
    "for name in names:\n",
    "    to_remove = suffix + garbages\n",
    "    clean_name = name\n",
    "    for element in to_remove:\n",
    "        clean_name = clean_name.replace(element, '')\n",
    "    clean_names.append(clean_name)\n",
    "\n",
    "# split the clean_names into first middle and last name\n",
    "for (name,original_name) in zip(clean_names,names):\n",
    "    data = name.split()\n",
    "    \n",
    "    # error checking for messed up entries\n",
    "    if len(data) < 2 :\n",
    "        first_name.append(\"\")\n",
    "        middle_name.append(\"\")\n",
    "        last_name.append(\"\")\n",
    "        title.append(\"\")\n",
    "        print(\"Entry : \" + original_name + \" is malformed\")\n",
    "        continue\n",
    "    \n",
    "    # Add the right firstname lastname and middle name structure\n",
    "    first_name.append(data[0])\n",
    "    if len(data) == 2:\n",
    "        middle_name.append(\"\")\n",
    "        last_name.append(data[1])\n",
    "    else:\n",
    "        middle_name.append(data[1])\n",
    "        last_name.append(\" \".join(data[2:]))\n",
    "        \n",
    "    # Add the right title\n",
    "    title.append(' ,'.join([suf for suf in suffix if suf in original_name]))\n",
    "\n",
    "df['first_name'] = first_name\n",
    "df['middle_name'] = middle_name\n",
    "df['last_name'] = last_name\n",
    "df['title'] = title\n",
    "df = df.drop(columns = ['name','id'])\n",
    "\n",
    "print(df)"
   ]
  },
  {
   "cell_type": "code",
   "execution_count": null,
   "metadata": {},
   "outputs": [],
   "source": []
  }
 ],
 "metadata": {
  "kernelspec": {
   "display_name": "Python 3",
   "language": "python",
   "name": "python3"
  },
  "language_info": {
   "codemirror_mode": {
    "name": "ipython",
    "version": 3
   },
   "file_extension": ".py",
   "mimetype": "text/x-python",
   "name": "python",
   "nbconvert_exporter": "python",
   "pygments_lexer": "ipython3",
   "version": "3.7.3"
  }
 },
 "nbformat": 4,
 "nbformat_minor": 2
}
